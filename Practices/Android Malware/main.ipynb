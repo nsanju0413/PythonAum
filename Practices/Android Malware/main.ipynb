{
 "cells": [
  {
   "cell_type": "code",
   "execution_count": 3,
   "metadata": {},
   "outputs": [],
   "source": [
    "from tkinter import messagebox\n",
    "from tkinter import *\n",
    "from tkinter import simpledialog\n",
    "import tkinter\n",
    "from tkinter import filedialog\n",
    "import matplotlib.pyplot as plt\n",
    "from tkinter.filedialog import askopenfilename\n",
    "from sklearn.model_selection import train_test_split\n",
    "from sklearn.metrics import accuracy_score\n",
    "import numpy as np\n",
    "import pandas as pd\n",
    "\n",
    "from sklearn.feature_selection import SelectKBest, chi2\n",
    "from sklearn.metrics import classification_report\n",
    "from sklearn.metrics import confusion_matrix\n",
    "from sklearn import svm\n",
    "from keras.models import Sequential\n",
    "from keras.layers import Dense\n",
    "import time"
   ]
  },
  {
   "cell_type": "code",
   "execution_count": 4,
   "metadata": {},
   "outputs": [
    {
     "data": {
      "text/plain": [
       "''"
      ]
     },
     "execution_count": 4,
     "metadata": {},
     "output_type": "execute_result"
    }
   ],
   "source": [
    "main = tkinter.Tk()\n",
    "main.title(\"Android Malware Detection\")\n",
    "main.geometry(\"1300x1200\")"
   ]
  },
  {
   "cell_type": "code",
   "execution_count": 1,
   "metadata": {},
   "outputs": [],
   "source": [
    "global filename\n",
    "global train\n",
    "global svm_acc, nn_acc, svmga_acc, annga_acc\n",
    "global X_train, X_test, y_train, y_test\n",
    "global svmga_classifier\n",
    "global nnga_classifier\n",
    "global svm_time, svmga_time, nn_time, nnga_time"
   ]
  },
  {
   "cell_type": "code",
   "execution_count": 2,
   "metadata": {},
   "outputs": [],
   "source": [
    "def upload():\n",
    "    global filename\n",
    "    filename = filedialog.askopenfilename(initialdir=\"dataset\")\n",
    "    pathlabel.config(text=filename)\n",
    "    text.delete('1.0', END)\n",
    "    text.insert(END, filename + \" loaded\\n\");"
   ]
  },
  {
   "cell_type": "code",
   "execution_count": 3,
   "metadata": {},
   "outputs": [],
   "source": [
    "def generateModel():\n",
    "    global X_train, X_test, y_train, y_test\n",
    "    text.delete('1.0', END)\n",
    "    train = pd.read_csv(filename)\n",
    "    rows = train.shape[0]  # gives number of row count\n",
    "    cols = train.shape[1]  # gives number of col count\n",
    "    features = cols - 1\n",
    "    print(features)\n",
    "    X = train.values[:, 0:features]\n",
    "    Y = train.values[:, features]\n",
    "    print(Y)\n",
    "    X_train, X_test, y_train, y_test = train_test_split(X, Y, test_size=0.2, random_state=0)\n",
    "    text.insert(END, \"Dataset Length : \" + str(len(X)) + \"\\n\");\n",
    "    text.insert(END, \"Splitted Training Length : \" + str(len(X_train)) + \"\\n\");\n",
    "    text.insert(END, \"Splitted Test Length : \" + str(len(X_test)) + \"\\n\\n\");"
   ]
  },
  {
   "cell_type": "code",
   "execution_count": 4,
   "metadata": {},
   "outputs": [],
   "source": [
    "def prediction(X_test, cls):  # prediction done here\n",
    "    y_pred = cls.predict(X_test)\n",
    "    for i in range(len(X_test)):\n",
    "        print(\"X=%s, Predicted=%s\" % (X_test[i], y_pred[i]))\n",
    "    return y_pred"
   ]
  },
  {
   "cell_type": "markdown",
   "metadata": {},
   "source": [
    "Function to calculate accuracy"
   ]
  },
  {
   "cell_type": "code",
   "execution_count": 5,
   "metadata": {},
   "outputs": [],
   "source": [
    "def cal_accuracy(y_test, y_pred, details):\n",
    "    cm = confusion_matrix(y_test, y_pred)\n",
    "    accuracy = accuracy_score(y_test, y_pred) * 100\n",
    "    text.insert(END, details + \"\\n\\n\")\n",
    "    text.insert(END, \"Accuracy : \" + str(accuracy) + \"\\n\\n\")\n",
    "    text.insert(END, \"Report : \" + str(classification_report(y_test, y_pred)) + \"\\n\")\n",
    "    text.insert(END, \"Confusion Matrix : \" + str(cm) + \"\\n\\n\\n\\n\\n\")\n",
    "    return accuracy"
   ]
  },
  {
   "cell_type": "code",
   "execution_count": 6,
   "metadata": {},
   "outputs": [],
   "source": [
    "def runSVM():\n",
    "    global svm_acc\n",
    "    global svm_time\n",
    "    start_time = time.time()\n",
    "    text.delete('1.0', END)\n",
    "    cls = svm.SVC(C=2.0, gamma='scale', kernel='rbf', random_state=2)\n",
    "    cls.fit(X_train, y_train)\n",
    "    prediction_data = prediction(X_test, cls)\n",
    "    svm_acc = cal_accuracy(y_test, prediction_data, 'SVM Accuracy')\n",
    "    svm_time = (time.time() - start_time)"
   ]
  },
  {
   "cell_type": "code",
   "execution_count": 7,
   "metadata": {},
   "outputs": [],
   "source": [
    "def runSVMGenetic():\n",
    "    text.delete('1.0', END)\n",
    "    global svmga_acc\n",
    "    global svmga_classifier\n",
    "    global svmga_time\n",
    "\n",
    "    # Feature selection using SelectKBest\n",
    "    selector = SelectKBest(score_func=chi2, k=5)  # You can adjust k as needed\n",
    "    X_train_selected = selector.fit_transform(X_train, y_train)\n",
    "    X_test_selected = selector.transform(X_test)\n",
    "\n",
    "    # Train SVM classifier on selected features\n",
    "    cls = svm.SVC(C=2.0, gamma='scale', kernel='rbf', random_state=2)\n",
    "    cls.fit(X_train_selected, y_train)\n",
    "    start_time = time.time()\n",
    "    prediction_data = prediction(X_test_selected, cls)\n",
    "    svmga_acc = cal_accuracy(y_test, prediction_data,\n",
    "                             'SVM with GA Algorithm Accuracy, Classification Report & Confusion Matrix')\n",
    "    svmga_time = time.time() - start_time"
   ]
  },
  {
   "cell_type": "code",
   "execution_count": 8,
   "metadata": {},
   "outputs": [],
   "source": [
    "def runNN():\n",
    "    global nn_acc\n",
    "    global nn_time\n",
    "    text.delete('1.0', END)\n",
    "    start_time = time.time()\n",
    "    model = Sequential()\n",
    "    model.add(Dense(4, input_dim=215, activation='relu'))\n",
    "    model.add(Dense(215, activation='relu'))\n",
    "    model.add(Dense(1, activation='sigmoid'))\n",
    "    model.compile(loss='binary_crossentropy', optimizer='adam', metrics=['accuracy'])\n",
    "    model.fit(X_train, y_train, epochs=50, batch_size=64)\n",
    "    _, ann_acc = model.evaluate(X_test, y_test)\n",
    "    nn_acc = ann_acc * 100\n",
    "    text.insert(END, \"ANN Accuracy : \" + str(nn_acc) + \"\\n\\n\")\n",
    "    nn_time = (time.time() - start_time)"
   ]
  },
  {
   "cell_type": "code",
   "execution_count": 9,
   "metadata": {},
   "outputs": [],
   "source": [
    "def runNNGenetic():\n",
    "    global annga_acc\n",
    "    global nnga_time\n",
    "    text.delete('1.0', END)\n",
    "    train = pd.read_csv(filename)\n",
    "    rows = train.shape[0]  # gives number of row count\n",
    "    cols = train.shape[1]  # gives number of col count\n",
    "    features = cols - 1\n",
    "    print(features)\n",
    "    X = train.values[:, 0:100]\n",
    "    Y = train.values[:, features]\n",
    "    print(Y)\n",
    "    X_train1, X_test1, y_train1, y_test1 = train_test_split(X, Y, test_size=0.2, random_state=0)\n",
    "    model = Sequential()\n",
    "    model.add(Dense(4, input_dim=100, activation='relu'))\n",
    "    model.add(Dense(100, activation='relu'))\n",
    "    model.add(Dense(1, activation='sigmoid'))\n",
    "    model.compile(loss='binary_crossentropy', optimizer='adam', metrics=['accuracy'])\n",
    "    start_time = time.time()\n",
    "    model.fit(X_train1, y_train1)\n",
    "    nnga_time = (time.time() - start_time)\n",
    "    _, ann_acc = model.evaluate(X_test1, y_test1)\n",
    "    annga_acc = ann_acc * 100\n",
    "    text.insert(END, \"ANN with Genetic Algorithm Accuracy : \" + str(annga_acc) + \"\\n\\n\")"
   ]
  },
  {
   "cell_type": "code",
   "execution_count": 10,
   "metadata": {},
   "outputs": [],
   "source": [
    "def graph():\n",
    "    height = [svm_acc, nn_acc, svmga_acc, annga_acc]\n",
    "    bars = ('SVM Accuracy', 'NN Accuracy', 'SVM Genetic Acc', 'NN Genetic Acc')\n",
    "    y_pos = np.arange(len(bars))\n",
    "    plt.bar(y_pos, height)\n",
    "    plt.xticks(y_pos, bars)\n",
    "    plt.show()"
   ]
  },
  {
   "cell_type": "code",
   "execution_count": 11,
   "metadata": {},
   "outputs": [],
   "source": [
    "def timeGraph():\n",
    "    height = [svm_time, svmga_time, nn_time, nnga_time]\n",
    "    bars = ('SVM Time', 'SVM Genetic Time', 'NN Time', 'NN Genetic Time')\n",
    "    y_pos = np.arange(len(bars))\n",
    "    plt.bar(y_pos, height)\n",
    "    plt.xticks(y_pos, bars)\n",
    "    plt.show()"
   ]
  },
  {
   "cell_type": "code",
   "execution_count": 12,
   "metadata": {},
   "outputs": [
    {
     "ename": "NameError",
     "evalue": "name 'Label' is not defined",
     "output_type": "error",
     "traceback": [
      "\u001b[0;31m---------------------------------------------------------------------------\u001b[0m",
      "\u001b[0;31mNameError\u001b[0m                                 Traceback (most recent call last)",
      "Cell \u001b[0;32mIn[12], line 2\u001b[0m\n\u001b[1;32m      1\u001b[0m font \u001b[38;5;241m=\u001b[39m (\u001b[38;5;124m'\u001b[39m\u001b[38;5;124mtimes\u001b[39m\u001b[38;5;124m'\u001b[39m, \u001b[38;5;241m16\u001b[39m, \u001b[38;5;124m'\u001b[39m\u001b[38;5;124mbold\u001b[39m\u001b[38;5;124m'\u001b[39m)\n\u001b[0;32m----> 2\u001b[0m title \u001b[38;5;241m=\u001b[39m Label(main,\n\u001b[1;32m      3\u001b[0m               text\u001b[38;5;241m=\u001b[39m\u001b[38;5;124m'\u001b[39m\u001b[38;5;124mAndroid Malware Detection Using Genetic Algorithm based Optimized Feature Selection and Machine Learning\u001b[39m\u001b[38;5;124m'\u001b[39m)\n\u001b[1;32m      4\u001b[0m \u001b[38;5;66;03m# title.config(bg='brown', fg='white')\u001b[39;00m\n\u001b[1;32m      5\u001b[0m title\u001b[38;5;241m.\u001b[39mconfig(font\u001b[38;5;241m=\u001b[39mfont)\n",
      "\u001b[0;31mNameError\u001b[0m: name 'Label' is not defined"
     ]
    }
   ],
   "source": [
    "font = ('times', 16, 'bold')\n",
    "title = Label(main,\n",
    "              text='Android Malware Detection Using Genetic Algorithm based Optimized Feature Selection and Machine Learning')\n",
    "# title.config(bg='brown', fg='white')\n",
    "title.config(font=font)\n",
    "title.config(height=3, width=120)\n",
    "title.place(x=0, y=5)"
   ]
  },
  {
   "cell_type": "code",
   "execution_count": 13,
   "metadata": {},
   "outputs": [
    {
     "ename": "NameError",
     "evalue": "name 'Button' is not defined",
     "output_type": "error",
     "traceback": [
      "\u001b[0;31m---------------------------------------------------------------------------\u001b[0m",
      "\u001b[0;31mNameError\u001b[0m                                 Traceback (most recent call last)",
      "Cell \u001b[0;32mIn[13], line 2\u001b[0m\n\u001b[1;32m      1\u001b[0m font1 \u001b[38;5;241m=\u001b[39m (\u001b[38;5;124m'\u001b[39m\u001b[38;5;124mtimes\u001b[39m\u001b[38;5;124m'\u001b[39m, \u001b[38;5;241m14\u001b[39m, \u001b[38;5;124m'\u001b[39m\u001b[38;5;124mbold\u001b[39m\u001b[38;5;124m'\u001b[39m)\n\u001b[0;32m----> 2\u001b[0m uploadButton \u001b[38;5;241m=\u001b[39m Button(main, text\u001b[38;5;241m=\u001b[39m\u001b[38;5;124m\"\u001b[39m\u001b[38;5;124mUpload Android Malware Dataset\u001b[39m\u001b[38;5;124m\"\u001b[39m, command\u001b[38;5;241m=\u001b[39mupload)\n\u001b[1;32m      3\u001b[0m uploadButton\u001b[38;5;241m.\u001b[39mplace(x\u001b[38;5;241m=\u001b[39m\u001b[38;5;241m50\u001b[39m, y\u001b[38;5;241m=\u001b[39m\u001b[38;5;241m100\u001b[39m)\n\u001b[1;32m      4\u001b[0m uploadButton\u001b[38;5;241m.\u001b[39mconfig(font\u001b[38;5;241m=\u001b[39mfont1)\n",
      "\u001b[0;31mNameError\u001b[0m: name 'Button' is not defined"
     ]
    }
   ],
   "source": [
    "font1 = ('times', 14, 'bold')\n",
    "uploadButton = Button(main, text=\"Upload Android Malware Dataset\", command=upload)\n",
    "uploadButton.place(x=50, y=100)\n",
    "uploadButton.config(font=font1)"
   ]
  },
  {
   "cell_type": "code",
   "execution_count": 14,
   "metadata": {},
   "outputs": [
    {
     "ename": "NameError",
     "evalue": "name 'Label' is not defined",
     "output_type": "error",
     "traceback": [
      "\u001b[0;31m---------------------------------------------------------------------------\u001b[0m",
      "\u001b[0;31mNameError\u001b[0m                                 Traceback (most recent call last)",
      "Cell \u001b[0;32mIn[14], line 1\u001b[0m\n\u001b[0;32m----> 1\u001b[0m pathlabel \u001b[38;5;241m=\u001b[39m Label(main)\n\u001b[1;32m      2\u001b[0m pathlabel\u001b[38;5;241m.\u001b[39mconfig(bg\u001b[38;5;241m=\u001b[39m\u001b[38;5;124m'\u001b[39m\u001b[38;5;124mbrown\u001b[39m\u001b[38;5;124m'\u001b[39m, fg\u001b[38;5;241m=\u001b[39m\u001b[38;5;124m'\u001b[39m\u001b[38;5;124mwhite\u001b[39m\u001b[38;5;124m'\u001b[39m)\n\u001b[1;32m      3\u001b[0m pathlabel\u001b[38;5;241m.\u001b[39mconfig(font\u001b[38;5;241m=\u001b[39mfont1)\n",
      "\u001b[0;31mNameError\u001b[0m: name 'Label' is not defined"
     ]
    }
   ],
   "source": [
    "pathlabel = Label(main)\n",
    "pathlabel.config(bg='brown', fg='white')\n",
    "pathlabel.config(font=font1)\n",
    "pathlabel.place(x=460, y=100)"
   ]
  },
  {
   "cell_type": "code",
   "execution_count": 15,
   "metadata": {},
   "outputs": [
    {
     "ename": "NameError",
     "evalue": "name 'Button' is not defined",
     "output_type": "error",
     "traceback": [
      "\u001b[0;31m---------------------------------------------------------------------------\u001b[0m",
      "\u001b[0;31mNameError\u001b[0m                                 Traceback (most recent call last)",
      "Cell \u001b[0;32mIn[15], line 1\u001b[0m\n\u001b[0;32m----> 1\u001b[0m generateButton \u001b[38;5;241m=\u001b[39m Button(main, text\u001b[38;5;241m=\u001b[39m\u001b[38;5;124m\"\u001b[39m\u001b[38;5;124mGenerate Train & Test Model\u001b[39m\u001b[38;5;124m\"\u001b[39m, command\u001b[38;5;241m=\u001b[39mgenerateModel)\n\u001b[1;32m      2\u001b[0m generateButton\u001b[38;5;241m.\u001b[39mplace(x\u001b[38;5;241m=\u001b[39m\u001b[38;5;241m50\u001b[39m, y\u001b[38;5;241m=\u001b[39m\u001b[38;5;241m150\u001b[39m)\n\u001b[1;32m      3\u001b[0m generateButton\u001b[38;5;241m.\u001b[39mconfig(font\u001b[38;5;241m=\u001b[39mfont1)\n",
      "\u001b[0;31mNameError\u001b[0m: name 'Button' is not defined"
     ]
    }
   ],
   "source": [
    "generateButton = Button(main, text=\"Generate Train & Test Model\", command=generateModel)\n",
    "generateButton.place(x=50, y=150)\n",
    "generateButton.config(font=font1)"
   ]
  },
  {
   "cell_type": "code",
   "execution_count": 16,
   "metadata": {},
   "outputs": [
    {
     "ename": "NameError",
     "evalue": "name 'Button' is not defined",
     "output_type": "error",
     "traceback": [
      "\u001b[0;31m---------------------------------------------------------------------------\u001b[0m",
      "\u001b[0;31mNameError\u001b[0m                                 Traceback (most recent call last)",
      "Cell \u001b[0;32mIn[16], line 1\u001b[0m\n\u001b[0;32m----> 1\u001b[0m svmButton \u001b[38;5;241m=\u001b[39m Button(main, text\u001b[38;5;241m=\u001b[39m\u001b[38;5;124m\"\u001b[39m\u001b[38;5;124mRun SVM Algorithm\u001b[39m\u001b[38;5;124m\"\u001b[39m, command\u001b[38;5;241m=\u001b[39mrunSVM)\n\u001b[1;32m      2\u001b[0m svmButton\u001b[38;5;241m.\u001b[39mplace(x\u001b[38;5;241m=\u001b[39m\u001b[38;5;241m330\u001b[39m, y\u001b[38;5;241m=\u001b[39m\u001b[38;5;241m150\u001b[39m)\n\u001b[1;32m      3\u001b[0m svmButton\u001b[38;5;241m.\u001b[39mconfig(font\u001b[38;5;241m=\u001b[39mfont1)\n",
      "\u001b[0;31mNameError\u001b[0m: name 'Button' is not defined"
     ]
    }
   ],
   "source": [
    "svmButton = Button(main, text=\"Run SVM Algorithm\", command=runSVM)\n",
    "svmButton.place(x=330, y=150)\n",
    "svmButton.config(font=font1)"
   ]
  },
  {
   "cell_type": "code",
   "execution_count": 17,
   "metadata": {},
   "outputs": [
    {
     "ename": "NameError",
     "evalue": "name 'Button' is not defined",
     "output_type": "error",
     "traceback": [
      "\u001b[0;31m---------------------------------------------------------------------------\u001b[0m",
      "\u001b[0;31mNameError\u001b[0m                                 Traceback (most recent call last)",
      "Cell \u001b[0;32mIn[17], line 1\u001b[0m\n\u001b[0;32m----> 1\u001b[0m svmgaButton \u001b[38;5;241m=\u001b[39m Button(main, text\u001b[38;5;241m=\u001b[39m\u001b[38;5;124m\"\u001b[39m\u001b[38;5;124mRun SVM with Genetic Algorithm\u001b[39m\u001b[38;5;124m\"\u001b[39m, command\u001b[38;5;241m=\u001b[39mrunSVMGenetic)\n\u001b[1;32m      2\u001b[0m svmgaButton\u001b[38;5;241m.\u001b[39mplace(x\u001b[38;5;241m=\u001b[39m\u001b[38;5;241m540\u001b[39m, y\u001b[38;5;241m=\u001b[39m\u001b[38;5;241m150\u001b[39m)\n\u001b[1;32m      3\u001b[0m svmgaButton\u001b[38;5;241m.\u001b[39mconfig(font\u001b[38;5;241m=\u001b[39mfont1)\n",
      "\u001b[0;31mNameError\u001b[0m: name 'Button' is not defined"
     ]
    }
   ],
   "source": [
    "svmgaButton = Button(main, text=\"Run SVM with Genetic Algorithm\", command=runSVMGenetic)\n",
    "svmgaButton.place(x=540, y=150)\n",
    "svmgaButton.config(font=font1)"
   ]
  },
  {
   "cell_type": "code",
   "execution_count": 18,
   "metadata": {},
   "outputs": [
    {
     "ename": "NameError",
     "evalue": "name 'Button' is not defined",
     "output_type": "error",
     "traceback": [
      "\u001b[0;31m---------------------------------------------------------------------------\u001b[0m",
      "\u001b[0;31mNameError\u001b[0m                                 Traceback (most recent call last)",
      "Cell \u001b[0;32mIn[18], line 1\u001b[0m\n\u001b[0;32m----> 1\u001b[0m nnButton \u001b[38;5;241m=\u001b[39m Button(main, text\u001b[38;5;241m=\u001b[39m\u001b[38;5;124m\"\u001b[39m\u001b[38;5;124mRun Neural Network Algorithm\u001b[39m\u001b[38;5;124m\"\u001b[39m, command\u001b[38;5;241m=\u001b[39mrunNN)\n\u001b[1;32m      2\u001b[0m nnButton\u001b[38;5;241m.\u001b[39mplace(x\u001b[38;5;241m=\u001b[39m\u001b[38;5;241m870\u001b[39m, y\u001b[38;5;241m=\u001b[39m\u001b[38;5;241m150\u001b[39m)\n\u001b[1;32m      3\u001b[0m nnButton\u001b[38;5;241m.\u001b[39mconfig(font\u001b[38;5;241m=\u001b[39mfont1)\n",
      "\u001b[0;31mNameError\u001b[0m: name 'Button' is not defined"
     ]
    }
   ],
   "source": [
    "nnButton = Button(main, text=\"Run Neural Network Algorithm\", command=runNN)\n",
    "nnButton.place(x=870, y=150)\n",
    "nnButton.config(font=font1)"
   ]
  },
  {
   "cell_type": "code",
   "execution_count": 19,
   "metadata": {},
   "outputs": [
    {
     "ename": "NameError",
     "evalue": "name 'Button' is not defined",
     "output_type": "error",
     "traceback": [
      "\u001b[0;31m---------------------------------------------------------------------------\u001b[0m",
      "\u001b[0;31mNameError\u001b[0m                                 Traceback (most recent call last)",
      "Cell \u001b[0;32mIn[19], line 1\u001b[0m\n\u001b[0;32m----> 1\u001b[0m nngaButton \u001b[38;5;241m=\u001b[39m Button(main, text\u001b[38;5;241m=\u001b[39m\u001b[38;5;124m\"\u001b[39m\u001b[38;5;124mRun Neural Network with Genetic Algorithm\u001b[39m\u001b[38;5;124m\"\u001b[39m, command\u001b[38;5;241m=\u001b[39mrunNNGenetic)\n\u001b[1;32m      2\u001b[0m nngaButton\u001b[38;5;241m.\u001b[39mplace(x\u001b[38;5;241m=\u001b[39m\u001b[38;5;241m50\u001b[39m, y\u001b[38;5;241m=\u001b[39m\u001b[38;5;241m200\u001b[39m)\n\u001b[1;32m      3\u001b[0m nngaButton\u001b[38;5;241m.\u001b[39mconfig(font\u001b[38;5;241m=\u001b[39mfont1)\n",
      "\u001b[0;31mNameError\u001b[0m: name 'Button' is not defined"
     ]
    }
   ],
   "source": [
    "nngaButton = Button(main, text=\"Run Neural Network with Genetic Algorithm\", command=runNNGenetic)\n",
    "nngaButton.place(x=50, y=200)\n",
    "nngaButton.config(font=font1)"
   ]
  },
  {
   "cell_type": "code",
   "execution_count": 20,
   "metadata": {},
   "outputs": [
    {
     "ename": "NameError",
     "evalue": "name 'Button' is not defined",
     "output_type": "error",
     "traceback": [
      "\u001b[0;31m---------------------------------------------------------------------------\u001b[0m",
      "\u001b[0;31mNameError\u001b[0m                                 Traceback (most recent call last)",
      "Cell \u001b[0;32mIn[20], line 1\u001b[0m\n\u001b[0;32m----> 1\u001b[0m graphButton \u001b[38;5;241m=\u001b[39m Button(main, text\u001b[38;5;241m=\u001b[39m\u001b[38;5;124m\"\u001b[39m\u001b[38;5;124mAccuracy Graph\u001b[39m\u001b[38;5;124m\"\u001b[39m, command\u001b[38;5;241m=\u001b[39mgraph)\n\u001b[1;32m      2\u001b[0m graphButton\u001b[38;5;241m.\u001b[39mplace(x\u001b[38;5;241m=\u001b[39m\u001b[38;5;241m460\u001b[39m, y\u001b[38;5;241m=\u001b[39m\u001b[38;5;241m200\u001b[39m)\n\u001b[1;32m      3\u001b[0m graphButton\u001b[38;5;241m.\u001b[39mconfig(font\u001b[38;5;241m=\u001b[39mfont1)\n",
      "\u001b[0;31mNameError\u001b[0m: name 'Button' is not defined"
     ]
    }
   ],
   "source": [
    "graphButton = Button(main, text=\"Accuracy Graph\", command=graph)\n",
    "graphButton.place(x=460, y=200)\n",
    "graphButton.config(font=font1)"
   ]
  },
  {
   "cell_type": "code",
   "execution_count": 21,
   "metadata": {},
   "outputs": [
    {
     "ename": "NameError",
     "evalue": "name 'Button' is not defined",
     "output_type": "error",
     "traceback": [
      "\u001b[0;31m---------------------------------------------------------------------------\u001b[0m",
      "\u001b[0;31mNameError\u001b[0m                                 Traceback (most recent call last)",
      "Cell \u001b[0;32mIn[21], line 1\u001b[0m\n\u001b[0;32m----> 1\u001b[0m exitButton \u001b[38;5;241m=\u001b[39m Button(main, text\u001b[38;5;241m=\u001b[39m\u001b[38;5;124m\"\u001b[39m\u001b[38;5;124mExecution Time Graph\u001b[39m\u001b[38;5;124m\"\u001b[39m, command\u001b[38;5;241m=\u001b[39mtimeGraph)\n\u001b[1;32m      2\u001b[0m exitButton\u001b[38;5;241m.\u001b[39mplace(x\u001b[38;5;241m=\u001b[39m\u001b[38;5;241m650\u001b[39m, y\u001b[38;5;241m=\u001b[39m\u001b[38;5;241m200\u001b[39m)\n\u001b[1;32m      3\u001b[0m exitButton\u001b[38;5;241m.\u001b[39mconfig(font\u001b[38;5;241m=\u001b[39mfont1)\n",
      "\u001b[0;31mNameError\u001b[0m: name 'Button' is not defined"
     ]
    }
   ],
   "source": [
    "exitButton = Button(main, text=\"Execution Time Graph\", command=timeGraph)\n",
    "exitButton.place(x=650, y=200)\n",
    "exitButton.config(font=font1)"
   ]
  },
  {
   "cell_type": "code",
   "execution_count": 22,
   "metadata": {},
   "outputs": [
    {
     "ename": "NameError",
     "evalue": "name 'Text' is not defined",
     "output_type": "error",
     "traceback": [
      "\u001b[0;31m---------------------------------------------------------------------------\u001b[0m",
      "\u001b[0;31mNameError\u001b[0m                                 Traceback (most recent call last)",
      "Cell \u001b[0;32mIn[22], line 2\u001b[0m\n\u001b[1;32m      1\u001b[0m font1 \u001b[38;5;241m=\u001b[39m (\u001b[38;5;124m'\u001b[39m\u001b[38;5;124mtimes\u001b[39m\u001b[38;5;124m'\u001b[39m, \u001b[38;5;241m12\u001b[39m, \u001b[38;5;124m'\u001b[39m\u001b[38;5;124mbold\u001b[39m\u001b[38;5;124m'\u001b[39m)\n\u001b[0;32m----> 2\u001b[0m text \u001b[38;5;241m=\u001b[39m Text(main, height\u001b[38;5;241m=\u001b[39m\u001b[38;5;241m20\u001b[39m, width\u001b[38;5;241m=\u001b[39m\u001b[38;5;241m150\u001b[39m)\n\u001b[1;32m      3\u001b[0m scroll \u001b[38;5;241m=\u001b[39m Scrollbar(text)\n\u001b[1;32m      4\u001b[0m text\u001b[38;5;241m.\u001b[39mconfigure(yscrollcommand\u001b[38;5;241m=\u001b[39mscroll\u001b[38;5;241m.\u001b[39mset)\n",
      "\u001b[0;31mNameError\u001b[0m: name 'Text' is not defined"
     ]
    }
   ],
   "source": [
    "font1 = ('times', 12, 'bold')\n",
    "text = Text(main, height=20, width=150)\n",
    "scroll = Scrollbar(text)\n",
    "text.configure(yscrollcommand=scroll.set)\n",
    "text.place(x=10, y=250)\n",
    "text.config(font=font1)"
   ]
  },
  {
   "cell_type": "markdown",
   "metadata": {},
   "source": [
    "main.config()"
   ]
  },
  {
   "cell_type": "code",
   "execution_count": 23,
   "metadata": {},
   "outputs": [
    {
     "ename": "NameError",
     "evalue": "name 'main' is not defined",
     "output_type": "error",
     "traceback": [
      "\u001b[0;31m---------------------------------------------------------------------------\u001b[0m",
      "\u001b[0;31mNameError\u001b[0m                                 Traceback (most recent call last)",
      "Cell \u001b[0;32mIn[23], line 1\u001b[0m\n\u001b[0;32m----> 1\u001b[0m main\u001b[38;5;241m.\u001b[39mmainloop()\n",
      "\u001b[0;31mNameError\u001b[0m: name 'main' is not defined"
     ]
    }
   ],
   "source": [
    "main.mainloop()"
   ]
  },
  {
   "cell_type": "code",
   "execution_count": null,
   "metadata": {},
   "outputs": [],
   "source": []
  },
  {
   "cell_type": "code",
   "execution_count": null,
   "metadata": {},
   "outputs": [],
   "source": []
  }
 ],
 "metadata": {
  "kernelspec": {
   "display_name": "Python 3 (ipykernel)",
   "language": "python",
   "name": "python3"
  },
  "language_info": {
   "codemirror_mode": {
    "name": "ipython",
    "version": 3
   },
   "file_extension": ".py",
   "mimetype": "text/x-python",
   "name": "python",
   "nbconvert_exporter": "python",
   "pygments_lexer": "ipython3",
   "version": "3.11.5"
  }
 },
 "nbformat": 4,
 "nbformat_minor": 2
}
